{
  "nbformat": 4,
  "nbformat_minor": 0,
  "metadata": {
    "colab": {
      "provenance": [],
      "authorship_tag": "ABX9TyOSccfALzupX7X4xZFU2MqV",
      "include_colab_link": true
    },
    "kernelspec": {
      "name": "python3",
      "display_name": "Python 3"
    },
    "language_info": {
      "name": "python"
    }
  },
  "cells": [
    {
      "cell_type": "markdown",
      "metadata": {
        "id": "view-in-github",
        "colab_type": "text"
      },
      "source": [
        "<a href=\"https://colab.research.google.com/github/Venkatesh-5764/Venkatesh-5764/blob/main/Patterns.ipynb\" target=\"_parent\"><img src=\"https://colab.research.google.com/assets/colab-badge.svg\" alt=\"Open In Colab\"/></a>"
      ]
    },
    {
      "cell_type": "code",
      "execution_count": null,
      "metadata": {
        "colab": {
          "base_uri": "https://localhost:8080/"
        },
        "id": "ApLcfCpS6Ba8",
        "outputId": "04db72f1-7a39-4b16-b641-9f8fa2d1c150"
      },
      "outputs": [
        {
          "output_type": "stream",
          "name": "stdout",
          "text": [
            "6\n"
          ]
        }
      ],
      "source": [
        "str='vivek ChodImEllA'\n",
        "count=0\n",
        "for i in str:\n",
        "  if(i=='a' or i=='A' or i=='e' or i=='E' or i=='i' or i=='I' or i=='o'or i=='O' or i=='u' or i=='U'):\n",
        "    count=count+1\n",
        "print(count)\n"
      ]
    },
    {
      "cell_type": "code",
      "source": [
        "c=int(input('enter the number of rows'))#rectangle star pattern\n",
        "for i in range(c+1):\n",
        "  for j in range(c+1):\n",
        "    print('$',end='')\n",
        "  print()\n"
      ],
      "metadata": {
        "colab": {
          "base_uri": "https://localhost:8080/"
        },
        "id": "VQxd_UjM_MiG",
        "outputId": "93c53f5e-3bae-4fb3-a6da-bbecf2bd9d36"
      },
      "execution_count": 7,
      "outputs": [
        {
          "output_type": "stream",
          "name": "stdout",
          "text": [
            "enter the number of rows9\n",
            "$$$$$$$$$$\n",
            "$$$$$$$$$$\n",
            "$$$$$$$$$$\n",
            "$$$$$$$$$$\n",
            "$$$$$$$$$$\n",
            "$$$$$$$$$$\n",
            "$$$$$$$$$$\n",
            "$$$$$$$$$$\n",
            "$$$$$$$$$$\n",
            "$$$$$$$$$$\n"
          ]
        }
      ]
    },
    {
      "cell_type": "code",
      "source": [
        "r=int(input('enter the number of rowws'))#hollow star Pattern\n",
        "c=int(input('enter the number of columns'))\n",
        "for i in range(r):\n",
        "  for j in range(c):\n",
        "    if i==0 or i==r-1 or j==0 or j==c-1:\n",
        "      print('*',end='')\n",
        "    else:\n",
        "      print(' ',end='')\n",
        "  print()"
      ],
      "metadata": {
        "colab": {
          "base_uri": "https://localhost:8080/"
        },
        "id": "zrpXppxPgnhI",
        "outputId": "d741442c-5ba2-4c0d-cb6d-2354168f0d08"
      },
      "execution_count": 8,
      "outputs": [
        {
          "output_type": "stream",
          "name": "stdout",
          "text": [
            "enter the number of rowws4\n",
            "enter the number of columns6\n",
            "******\n",
            "*    *\n",
            "*    *\n",
            "******\n"
          ]
        }
      ]
    },
    {
      "cell_type": "code",
      "source": [
        "r=int(input('enter the number of rows'))#Rhombuus Star pattern\n",
        "for i in range(r):\n",
        "  for j in range(1,i+1):\n",
        "    print(' ',end='')\n",
        "  for j in range(0,r):\n",
        "    print('*',end='')\n",
        "  print()"
      ],
      "metadata": {
        "colab": {
          "base_uri": "https://localhost:8080/"
        },
        "id": "rWVvWVt_jpTd",
        "outputId": "01af1d29-ede4-4099-a308-4250ea0832f4"
      },
      "execution_count": 12,
      "outputs": [
        {
          "output_type": "stream",
          "name": "stdout",
          "text": [
            "enter the number of rows8\n",
            "********\n",
            " ********\n",
            "  ********\n",
            "   ********\n",
            "    ********\n",
            "     ********\n",
            "      ********\n",
            "       ********\n"
          ]
        }
      ]
    },
    {
      "cell_type": "code",
      "source": [
        "#mirrored Rhombus\n",
        "n=int(input(\"enter the number of rows\"))\n",
        "for i in range(n):\n",
        "  for j in range(n-i-1,0,-1):\n",
        "    print(' ',end='')\n",
        "\n",
        "  for j in range(n):\n",
        "    print('8',end='')\n",
        "\n",
        "\n",
        "  print()"
      ],
      "metadata": {
        "colab": {
          "base_uri": "https://localhost:8080/"
        },
        "id": "oAnf54a5kvIM",
        "outputId": "1abea86b-7363-4088-e2d2-5f51b6037d75"
      },
      "execution_count": 17,
      "outputs": [
        {
          "output_type": "stream",
          "name": "stdout",
          "text": [
            "enter the number of rows5\n",
            "    88888\n",
            "   88888\n",
            "  88888\n",
            " 88888\n",
            "88888\n"
          ]
        }
      ]
    },
    {
      "cell_type": "code",
      "source": [
        "n=int(input('enter the number'))\n",
        "for i in range(1,n):\n",
        "  for j in range(0,i):\n",
        "    print('*',end=\"\")\n",
        "  print()"
      ],
      "metadata": {
        "colab": {
          "base_uri": "https://localhost:8080/"
        },
        "id": "X41N82NGzrWl",
        "outputId": "4d4032e9-8e19-4a76-c131-a4acf3e84649"
      },
      "execution_count": 19,
      "outputs": [
        {
          "output_type": "stream",
          "name": "stdout",
          "text": [
            "enter the number10\n",
            "*\n",
            "**\n",
            "***\n",
            "****\n",
            "*****\n",
            "******\n",
            "*******\n",
            "********\n",
            "*********\n"
          ]
        }
      ]
    },
    {
      "cell_type": "code",
      "source": [
        "n=int(input('enter the number'))\n",
        "for i in range(n):\n",
        "  for j in range()"
      ],
      "metadata": {
        "id": "fhPWUsE10GiN"
      },
      "execution_count": null,
      "outputs": []
    }
  ]
}